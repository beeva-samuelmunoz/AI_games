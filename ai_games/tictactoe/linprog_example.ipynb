{
 "cells": [
  {
   "cell_type": "markdown",
   "metadata": {},
   "source": [
    "# Linear programming example\n",
    "\n",
    "Inspired by: https://www.youtube.com/watch?v=nJMh2pECZOw"
   ]
  },
  {
   "cell_type": "markdown",
   "metadata": {},
   "source": [
    "\n",
    "## Problem description\n",
    "Give me at least 100Kg of meat for the best price. The total ammount of fat cannot exceed 25%.\n",
    "\n",
    "### Data\n",
    "* Meat 1\n",
    "  * Price:0.8€/Kg\n",
    "  * Fat: 20%\n",
    "\n",
    "\n",
    "* Meat 2\n",
    "  * 0.6€/Kg\n",
    "  * Fat: 32%"
   ]
  },
  {
   "cell_type": "markdown",
   "metadata": {},
   "source": [
    "## Model the problem\n",
    "\n",
    "\n",
    "#### Variables\n",
    "Meat 1 Kg = $x$\n",
    "\n",
    "Meat 2 Kg = $y$\n",
    "\n",
    "\n",
    "#### Function to optimize\n",
    "Optimize the prize is the same as minimize the function: $0.8*x + 0.6*y$\n",
    "\n",
    "\n",
    "#### Constraints\n",
    "Give me at least 100 Kg of meat is the same as: $x+y \\geq 100$ \n",
    "\n",
    "Fat cannot exceed 25% means: $0.2*x + 0.32*y \\leq 0.25*(x+y)$\n",
    "\n",
    "\n",
    "#### Reformulating constraints\n",
    "Constraints must be rewritten in the form $a*x + b*y \\leq c$\n",
    "\n",
    "$x+y \\geq 100 \\implies -1*x + -1*y \\leq100$ \n",
    "\n",
    "$0.2*x + 0.32*y \\leq 0.25*(x+y) \\implies -0.05*x + 0.07*y \\leq 0$"
   ]
  },
  {
   "cell_type": "code",
   "execution_count": 1,
   "metadata": {},
   "outputs": [],
   "source": [
    "import numpy as np\n",
    "from scipy.optimize import linprog  #DOC: https://docs.scipy.org/doc/scipy/reference/generated/scipy.optimize.linprog.html "
   ]
  },
  {
   "cell_type": "code",
   "execution_count": 2,
   "metadata": {},
   "outputs": [
    {
     "name": "stdout",
     "output_type": "stream",
     "text": [
      "     fun: 71.66666666666666\n",
      " message: 'Optimization terminated successfully.'\n",
      "     nit: 2\n",
      "   slack: array([0., 0.])\n",
      "  status: 0\n",
      " success: True\n",
      "       x: array([58.33333333, 41.66666667])\n"
     ]
    }
   ],
   "source": [
    "result = linprog(\n",
    "    c = np.array([0.8, 0.6]),  # Function coefficients\n",
    "    A_ub = np.array([          # Constraint coefficients, this<=_\n",
    "        [-1, -1],\n",
    "        [-0.05, 0.07],\n",
    "\n",
    "    ]),\n",
    "    b_ub = np.array([-100, 0])  # Constraint values _<=this \n",
    ")\n",
    "print(result)"
   ]
  },
  {
   "cell_type": "code",
   "execution_count": 3,
   "metadata": {},
   "outputs": [
    {
     "name": "stdout",
     "output_type": "stream",
     "text": [
      "Meat 1: 58.333333333333336 Kg\n",
      "Meat 2: 41.666666666666664 Kg\n",
      "Price: 71.66666666666666 €\n"
     ]
    }
   ],
   "source": [
    "print(\"Meat 1: {} Kg\\nMeat 2: {} Kg\\nPrice: {} €\".format(result.x[0], result.x[1], result.fun))"
   ]
  },
  {
   "cell_type": "markdown",
   "metadata": {},
   "source": [
    "## Notes\n",
    "\n",
    "1. Optimizing the price has a direct impact on the Kg to buy, so the sum will be 100 Kg, the minimum."
   ]
  }
 ],
 "metadata": {
  "kernelspec": {
   "display_name": "Python 3",
   "language": "python",
   "name": "python3"
  },
  "language_info": {
   "codemirror_mode": {
    "name": "ipython",
    "version": 3
   },
   "file_extension": ".py",
   "mimetype": "text/x-python",
   "name": "python",
   "nbconvert_exporter": "python",
   "pygments_lexer": "ipython3",
   "version": "3.5.2"
  }
 },
 "nbformat": 4,
 "nbformat_minor": 2
}
